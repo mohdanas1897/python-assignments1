{
 "cells": [
  {
   "cell_type": "code",
   "execution_count": 3,
   "id": "69abe5d8-4b18-4c65-84d3-ad86790f9b9a",
   "metadata": {},
   "outputs": [
    {
     "data": {
      "text/plain": [
       "'SLLIKSWP'"
      ]
     },
     "execution_count": 3,
     "metadata": {},
     "output_type": "execute_result"
    }
   ],
   "source": [
    "# 1. write a code to reverese a string.\n",
    "name=\"PWSKILLS\"\n",
    "name[::-1]"
   ]
  },
  {
   "cell_type": "code",
   "execution_count": 14,
   "id": "a8b74d1a-4749-45ed-9128-e2f1ab9142fe",
   "metadata": {},
   "outputs": [
    {
     "name": "stdout",
     "output_type": "stream",
     "text": [
      "vowels in this sentence : 1\n"
     ]
    }
   ],
   "source": [
    "# 2. write a code to count the number of vowels in a strting .\n",
    "string =(\"pwskills\")\n",
    "str=string.upper()\n",
    "vowels=[\"A\",\"E\",\"I\",\"O\",\"U\"]\n",
    "count=0\n",
    "for char in str :\n",
    "    if char in vowels:\n",
    "        count=count+1\n",
    "print(\"vowels in this sentence :\",count)        \n",
    "    "
   ]
  },
  {
   "cell_type": "code",
   "execution_count": null,
   "id": "1cdde4a4-daac-4712-8120-bbd60575971e",
   "metadata": {},
   "outputs": [
    {
     "name": "stdout",
     "output_type": "stream",
     "text": [
      "this is a palindrome:\n"
     ]
    }
   ],
   "source": [
    "# 3. write a code the given string is pelindrome or not.\n",
    "string=(\"civic\")\n",
    "str=string.upper()\n",
    "str\n",
    "if str==str[::-1]:\n",
    "    print(\"this is a palindrome:\")\n",
    "else:\n",
    "    print(\"not a palindrome:\")\n",
    "\n"
   ]
  },
  {
   "cell_type": "code",
   "execution_count": 5,
   "id": "4e823297-bed0-459a-8d70-c3cb5a63a660",
   "metadata": {},
   "outputs": [
    {
     "name": "stdin",
     "output_type": "stream",
     "text": [
      "enter the word: kajal\n",
      "enter the word: anas\n"
     ]
    },
    {
     "name": "stdout",
     "output_type": "stream",
     "text": [
      "given word is not a anagram\n"
     ]
    }
   ],
   "source": [
    "# 4 write a code to check two givbing strings are anagrams of each others .\n",
    "string1=input(\"enter the word:\")\n",
    "word1=string1.upper()\n",
    "string2=input(\"enter the word:\")\n",
    "word2=string2.upper()\n",
    "if (len(word1))==len((word2)):\n",
    "    sorted_str1=sorted(word1)\n",
    "    sorted_str2=sorted(word2)\n",
    "    if (sorted_str1==sorted_str2):\n",
    "         print(\"word is anagram:\")\n",
    "    else:\n",
    "        print(\"not a anagram\")\n",
    "else:\n",
    "    print(\"given word is not a anagram\")"
   ]
  },
  {
   "cell_type": "code",
   "execution_count": 15,
   "id": "e105d9e8-b867-4d4f-ab2f-d8c598980643",
   "metadata": {},
   "outputs": [
    {
     "name": "stdin",
     "output_type": "stream",
     "text": [
      "enter the string sentence: my name is mohd anas\n",
      "enter the substring for occurence checking: anas\n"
     ]
    },
    {
     "data": {
      "text/plain": [
       "1"
      ]
     },
     "execution_count": 15,
     "metadata": {},
     "output_type": "execute_result"
    }
   ],
   "source": [
    "# 5 write a code to find all occurences of a given substring within another string\n",
    "str1=input(\"enter the string sentence:\")\n",
    "str2=input(\"enter the substring for occurence checking:\")\n",
    "con= str1.count(str2)\n",
    "con"
   ]
  },
  {
   "cell_type": "code",
   "execution_count": 10,
   "id": "88e1ef86-9d30-4201-8615-97b72731de63",
   "metadata": {},
   "outputs": [
    {
     "name": "stdin",
     "output_type": "stream",
     "text": [
      "enter word: khan\n"
     ]
    },
    {
     "name": "stdout",
     "output_type": "stream",
     "text": [
      " 1A1A1A1A\n"
     ]
    }
   ],
   "source": [
    " # 6. write a code to performe basic string copmression using the counts of repeated chacters.\n",
    "word1=input(\"enter word:\")\n",
    "word=word1.upper()\n",
    "str1=sorted(word)\n",
    "ch=str1[0]\n",
    "result=\" \"\n",
    "count= (0)\n",
    "str1=str1+[\" \"]\n",
    "for x in (str1):\n",
    "    if x==ch:\n",
    "        count+=1\n",
    "    else:\n",
    "        result = result+ str(count)+str(ch)\n",
    "        ch=x\n",
    "        count=1\n",
    "print(result)\n"
   ]
  },
  {
   "cell_type": "code",
   "execution_count": 14,
   "id": "1c60008e-c10f-4f94-94c7-8529110e4455",
   "metadata": {},
   "outputs": [
    {
     "data": {
      "text/plain": [
       "'duplicate characters here:'"
      ]
     },
     "execution_count": 14,
     "metadata": {},
     "output_type": "execute_result"
    }
   ],
   "source": [
    "# 7. write a code to determine if a string has all unique characters.\n",
    "     # using  function and sorting \n",
    "def uniquecharacters(string):\n",
    "    str1=sorted(string)\n",
    "    for x in range(len(str1)-1):\n",
    "        if (str1[x]==str1[x+1]):\n",
    "            return(\"duplicate characters here:\")\n",
    "    \n",
    "    return(\"all unique characters:\")\n",
    "\n",
    "uniquecharacters(\"anas is here\")"
   ]
  },
  {
   "cell_type": "code",
   "execution_count": 16,
   "id": "a15605cd-0c16-4a78-b3fe-5f801168a6ba",
   "metadata": {},
   "outputs": [
    {
     "name": "stdout",
     "output_type": "stream",
     "text": [
      "in upper case:  I AM MOHD ANAS\n",
      "in lower case:  i am mohd anas\n"
     ]
    }
   ],
   "source": [
    "# 8. write a code to convert a given string to uppercase or lowercase.\n",
    "string=(\"i am mohd anas\")\n",
    "print(\"in upper case: \",string.upper())\n",
    "print(\"in lower case: \",string.lower())\n"
   ]
  },
  {
   "cell_type": "code",
   "execution_count": 17,
   "id": "37d121ec-854d-4c8f-bfa7-51a53b293aec",
   "metadata": {},
   "outputs": [
    {
     "name": "stdout",
     "output_type": "stream",
     "text": [
      "4\n"
     ]
    }
   ],
   "source": [
    "# 9. write a code to count the number of words in a string.\n",
    "s=(\"i am mohd anas\")\n",
    "count=0\n",
    "for char in s.split():\n",
    "    #print(char)\n",
    "    count=count+1\n",
    "print(count)"
   ]
  },
  {
   "cell_type": "code",
   "execution_count": 19,
   "id": "e7dca37c-ad0a-47f0-afcb-db1b178ab93f",
   "metadata": {},
   "outputs": [
    {
     "name": "stdout",
     "output_type": "stream",
     "text": [
      "hello sir how can i help you\n"
     ]
    }
   ],
   "source": [
    "#10. write a code to concatinate two strings without using the + operator.\n",
    "\n",
    "str1= \"hello sir\"\n",
    "str2=\"how can i help you\"\n",
    "sentence=f\"{str1} {str2}\"\n",
    "print(sentence)"
   ]
  },
  {
   "cell_type": "code",
   "execution_count": 21,
   "id": "dbde01b9-0944-41d1-bc23-64ccfba0cb32",
   "metadata": {},
   "outputs": [
    {
     "name": "stdout",
     "output_type": "stream",
     "text": [
      "['banana', 'lichi', 'grapes', 'potato']\n"
     ]
    }
   ],
   "source": [
    "# 11 write a code to remove all occurences of a specific element from a list.\n",
    "lst=[\"apple\",\"banana\",\"lichi\",\"apple\",\"grapes\",\"apple\",\"potato\",\"apple\"]\n",
    "for char in lst:\n",
    "    if \"apple\"==char:\n",
    "        lst.remove('apple')\n",
    "print(lst)        \n"
   ]
  },
  {
   "cell_type": "code",
   "execution_count": 23,
   "id": "082b96d9-cfc2-464b-997b-31239573dc90",
   "metadata": {},
   "outputs": [
    {
     "data": {
      "text/plain": [
       "622"
      ]
     },
     "execution_count": 23,
     "metadata": {},
     "output_type": "execute_result"
    }
   ],
   "source": [
    "#12.impliment a code to find the second largest number in a given list of integer.\n",
    "number_list=[12,52,3,6,98,28,622,699,65,56,2,69,56,9,56]\n",
    "new_list=sorted(number_list)\n",
    "new_list[-2]"
   ]
  },
  {
   "cell_type": "code",
   "execution_count": 59,
   "id": "128c5102-5886-4ec7-b572-86e7e8ec5393",
   "metadata": {},
   "outputs": [
    {
     "name": "stdout",
     "output_type": "stream",
     "text": [
      "{1: 4, 2: 3, 5: 1}\n"
     ]
    }
   ],
   "source": [
    "#13 create a code to count the occurrence of each element in a list and return a dictionary with elements as keys and their\n",
    "# counts as values.\n",
    "list1={}\n",
    "my_lis=[1,1,1,2,2,5,1,2]\n",
    "for i in my_lis:\n",
    "    if (item in list1):\n",
    "        list1[i]=list1[i]+1\n",
    "    else:\n",
    "        list1[item]=1\n",
    "print(list1)        "
   ]
  },
  {
   "cell_type": "code",
   "execution_count": 114,
   "id": "92f663c4-567d-423f-9625-6190c1a4e418",
   "metadata": {},
   "outputs": [
    {
     "name": "stdout",
     "output_type": "stream",
     "text": [
      "the reverse function is:  [9, 8, 7, 6, 5, 4, 3, 2, 1]\n"
     ]
    }
   ],
   "source": [
    "#14 write a code to reverse a list in-place without using any built in function.\n",
    "lis=[1,2,3,4,5,6,7,8,9]\n",
    "m=int(size/2)\n",
    "for i in range(m):\n",
    "    temp=lis[i]\n",
    "    lis[i]=lis[-i-1]\n",
    "    lis[-i-1]=temp\n",
    "print(\"the reverse function is: \",lis)\n",
    "    "
   ]
  },
  {
   "cell_type": "code",
   "execution_count": 18,
   "id": "be75a58c-01b7-446f-9114-8a54cfdc30f6",
   "metadata": {},
   "outputs": [
    {
     "name": "stdout",
     "output_type": "stream",
     "text": [
      "[1, 2, 5, 89, 6, 3, 5, 69, 5, 65, 2, 3, 6, 9, 5, 6, 3]\n",
      "[1, 2, 5, 89, 6, 3, 69, 65, 9]\n"
     ]
    }
   ],
   "source": [
    "#15 impliment a code to find and remove duplicates from a list while preserving the original 0rder of elements.\n",
    "lis=[1,2,5,89,6,3,5,69,5,65,2,3,6,9,5,6,3,]\n",
    "print(str(lis))\n",
    "ch=[]\n",
    "for i in lis:\n",
    "    if i not in ch:\n",
    "        ch.append(i)\n",
    "print(str(ch))"
   ]
  },
  {
   "cell_type": "code",
   "execution_count": 45,
   "id": "9567f646-5315-4ce1-b510-1a354ba9d578",
   "metadata": {},
   "outputs": [
    {
     "name": "stdout",
     "output_type": "stream",
     "text": [
      "list is sorted by dissending\n"
     ]
    }
   ],
   "source": [
    "# 16. create a code to check if a given list is sorted (eiher is assending order or descending order ) or not.\n",
    "                # using function\n",
    "def list1_func(list1):\n",
    "   \n",
    "    s=sorted(list1)\n",
    "    v=s[::-1]\n",
    "    if list1==s:\n",
    "        print(\"list  is sorted by assending\")\n",
    "    if list1==v:\n",
    "        print(\"list is sorted by dissending\")\n",
    "    if list1 != s and list1 !=v:\n",
    "        print(\"list is not assending and not dissending\")\n",
    "list1_func([9, 8, 7, 6, 5, 4, 3, 2, 1])        "
   ]
  },
  {
   "cell_type": "code",
   "execution_count": 46,
   "id": "277584eb-6c57-4fd5-9542-7a46bfa82dff",
   "metadata": {},
   "outputs": [
    {
     "data": {
      "text/plain": [
       "[1, 2, 3, 4, 5, 6, 7, 8, 9, 10, 11, 12, 13, 14, 15, 16, 17, 18, 19, 20]"
      ]
     },
     "execution_count": 46,
     "metadata": {},
     "output_type": "execute_result"
    }
   ],
   "source": [
    "# 17. write a code to murge two sorted list into a single sorted list.\n",
    "\n",
    "list1=[2,6,4,5,3,9,7,8,1,10]\n",
    "list2=[11,15,17,19,16,13,12,14,18,20]\n",
    "lst1=sorted(list1)\n",
    "lst2=sorted(list2)\n",
    "lst1.extend(lst2)\n",
    "sorted(lst1)"
   ]
  },
  {
   "cell_type": "code",
   "execution_count": 124,
   "id": "6e05eddb-1f69-4acc-89ee-99b43c297ed9",
   "metadata": {},
   "outputs": [
    {
     "data": {
      "text/plain": [
       "{1, 2, 3, 5, 8, 9, 35, 45, 56}"
      ]
     },
     "execution_count": 124,
     "metadata": {},
     "output_type": "execute_result"
    }
   ],
   "source": [
    "# 18. write a code to find the intersection of two given list.\n",
    "\n",
    "list1={1,5,2,4,8,5,4,6,9,7,2,6,5,42}\n",
    "list2={2,56,1,45,56,35,5,2,8,9,3,45}\n",
    "list1 and list2"
   ]
  },
  {
   "cell_type": "code",
   "execution_count": 11,
   "id": "f0b8ca8c-0272-4808-9926-5c3ae44ac55f",
   "metadata": {},
   "outputs": [
    {
     "data": {
      "text/plain": [
       "{1, 2, 3, 4, 5, 8, 9, 15, 35, 45, 56}"
      ]
     },
     "execution_count": 11,
     "metadata": {},
     "output_type": "execute_result"
    }
   ],
   "source": [
    "#19. write a code to find the union of two lists without duplicates.\n",
    "x={2,4,56,1,45,56,35,5,2,8,9,3,45}\n",
    "y={2,56,1,45,56,35,5,2,8,9,15,3,45}\n",
    "x.union(y)"
   ]
  },
  {
   "cell_type": "code",
   "execution_count": 17,
   "id": "65da865c-32be-46a2-b280-a36be776fb35",
   "metadata": {},
   "outputs": [
    {
     "data": {
      "text/plain": [
       "[5, 0, 4, 1, 7, 8, 3, 2, 6, 9]"
      ]
     },
     "execution_count": 17,
     "metadata": {},
     "output_type": "execute_result"
    }
   ],
   "source": [
    "# 20. write a code to shuffle given list randomly without using any built in shuffle function.\n",
    "import random\n",
    "my_list=list(range(10))\n",
    "# before shuffle \n",
    "\n",
    "new_list=random.sample(my_list,len(my_list))\n",
    "new_list"
   ]
  },
  {
   "cell_type": "code",
   "execution_count": null,
   "id": "eb8a3d05-b30f-402c-9390-3804b62197c5",
   "metadata": {},
   "outputs": [],
   "source": [
    "#21 write a code that takes two tuples as input and return a new tuple containing elements that are\n",
    "# common to both input tuples.\n",
    "tupl_len=int(input(\"enter first tuple length: \"))\n",
    "tuple1=()\n",
    "for x in range(tupl_len):\n",
    "    item = int(input(\"enter tuple1 item: \"))\n",
    "    tuple1+=(item,)\n",
    "tupl_len2=int(input(\"enter first tuple length: \"))\n",
    "tuple2=()\n",
    "for x in range(tupl_len2):\n",
    "    item = int(input(\"enter tuple1 item: \"))\n",
    "    tuple2+=(item,)\n",
    "new_tuple=list()    \n",
    "#print(tuple1)\n",
    "for i in tuple1:\n",
    "    if i in tuple2:\n",
    "        new_tuple.append(i)\n",
    "print(tuple(new_tuple))"
   ]
  },
  {
   "cell_type": "code",
   "execution_count": 65,
   "id": "9cc7c940-b9ef-4135-af8a-dd7c27548f64",
   "metadata": {},
   "outputs": [
    {
     "name": "stdin",
     "output_type": "stream",
     "text": [
      "enter the lenght of the set: 3\n",
      "enter the element: 1\n",
      "enter the element: 2\n",
      "enter the element: 3\n",
      "enter the lenght of the set: 2\n",
      "enter the element: 2\n",
      "enter the element: 3\n"
     ]
    },
    {
     "name": "stdout",
     "output_type": "stream",
     "text": [
      "{'2', '3'}\n"
     ]
    }
   ],
   "source": [
    "# 22. create a code that prompts  the user to enter two sets of integers sepreted by commas then print the\n",
    "#intersection of these two sets.\n",
    "\n",
    "n=int(input(\"enter the lenght of the set:\"))\n",
    "set1=set()\n",
    "for i in range(n):\n",
    "    set1.add(input(\"enter the element:\"))\n",
    "set2=set()\n",
    "m=int(input(\"enter the lenght of the set:\"))\n",
    "for i in range(m):\n",
    "    set2.add(input(\"enter the element:\"))\n",
    "print(set1.intersection(set2))\n"
   ]
  },
  {
   "cell_type": "code",
   "execution_count": 23,
   "id": "546cd724-1b36-4fb2-ae65-5e926c4e8252",
   "metadata": {},
   "outputs": [
    {
     "name": "stdin",
     "output_type": "stream",
     "text": [
      "enter first tuple length:  3\n",
      "enter tuple1 item:  1\n",
      "enter tuple1 item:  2\n",
      "enter tuple1 item:  3\n",
      "enter first tuple length:  3\n",
      "enter tuple1 item:  5\n",
      "enter tuple1 item:  8\n",
      "enter tuple1 item:  2\n"
     ]
    },
    {
     "name": "stdout",
     "output_type": "stream",
     "text": [
      "(1, 2, 3, 5, 8, 2)\n"
     ]
    }
   ],
   "source": [
    "#23 write a code to concatinate two tuples. the function should take two tuple as input and return a new tuple containing\n",
    "# elements from both iinput tuples.\n",
    "tupl_len=int(input(\"enter first tuple length: \"))\n",
    "tuple1=()\n",
    "for x in range(tupl_len):\n",
    "    item = int(input(\"enter tuple1 item: \"))\n",
    "    tuple1+=(item,)\n",
    "tupl_len2=int(input(\"enter first tuple length: \"))\n",
    "tuple2=()\n",
    "for x in range(tupl_len2):\n",
    "    item = int(input(\"enter tuple1 item: \"))\n",
    "    tuple2+=(item,)\n",
    "new_tuple=()\n",
    "print(\"new tuple: \",tuple1+tuple2)"
   ]
  },
  {
   "cell_type": "code",
   "execution_count": null,
   "id": "f3b13575-8456-4f79-976a-ace99e60c0ca",
   "metadata": {},
   "outputs": [],
   "source": [
    "#24 develop  code that prompts the user to input two strings that are present in the first set but not in the second set.\n",
    "set1=set()\n",
    "set2=set()\n",
    "a=input(\"enter the string value set1: \")\n",
    "for i in a.split():\n",
    "    set1.add(i)\n",
    "b=input(\"enter the string value set1: \")\n",
    "for x in b.split():\n",
    "    set2.add(x)\n",
    "print(\"set1 string values: \",set1)    \n",
    "print(\"set2 string values: \",set2)\n",
    "print((set1)-(set2))"
   ]
  },
  {
   "cell_type": "code",
   "execution_count": null,
   "id": "69321038-2ccc-4ce7-95ac-55ba2b056dc2",
   "metadata": {},
   "outputs": [],
   "source": []
  },
  {
   "cell_type": "code",
   "execution_count": null,
   "id": "66a143f4-6e3e-4b1f-81ab-1b63271806d1",
   "metadata": {},
   "outputs": [],
   "source": [
    "#26 write a code that prompts the user to input two sets of characters.then, print the union of these two sets.\n",
    "set1=set()\n",
    "set2=set()\n",
    "a=input(\"enter the string value with space set1: \")\n",
    "for i in a.split():\n",
    "    set1.add(i)\n",
    "b=input(\"enter the string value with space set1: \")\n",
    "for x in b.split():\n",
    "    set2.add(x)\n",
    "print(\"set1 string values: \",set1)    \n",
    "print(\"set2 string values: \",set2)\n",
    "print(\" \")\n",
    "new_set=set1.union(set2)\n",
    "print(new_set)\n"
   ]
  },
  {
   "cell_type": "code",
   "execution_count": null,
   "id": "8acb43e8-1c11-4792-87fd-cda53a120243",
   "metadata": {},
   "outputs": [],
   "source": [
    "# 27 develop a code that takes a tuple of integers as input. the\n",
    "#function should return the maximum and minimum values from the tuple using tuple unpacking\n",
    "def tupl_func():\n",
    "    tupl1= ()\n",
    "    r=int(input(\"enter the range of tuple\"))\n",
    "    for i in range(r):\n",
    "        tupl1+=(int(input(\"enter the tuple elements: \")),)\n",
    "    print(\"this is the original value: \",tupl1)\n",
    "    # tuple packing\n",
    "    max_,min_=((max(tupl1)),(min(tupl1)))\n",
    "    print(\"max value is: \",max_)\n",
    "    print(\"min value is: \",min_)\n",
    "tupl_func()        "
   ]
  },
  {
   "cell_type": "code",
   "execution_count": null,
   "id": "d34ff999-bfc0-4e36-9ce8-11716bb75c02",
   "metadata": {},
   "outputs": [],
   "source": [
    "#28.create a code that define two sets of intrgers.then prints the union, intersection,and differece of these two sets.\n",
    "set1={1, 2, 3, 5, 6, 7, 8, 9, 98}\n",
    "set2={4, 6, 8, 25, 59, 95, 886}\n",
    "print(\"union of two sets       :\",set1.union(set2))\n",
    "print(\"intersection of two sets:\",set1.intersection(set2))\n",
    "print(\"diffrense of sets       :\",set1.difference(set2))"
   ]
  },
  {
   "cell_type": "code",
   "execution_count": null,
   "id": "f423adaa-ddf0-4c2b-98f8-71dd6dd63a69",
   "metadata": {},
   "outputs": [],
   "source": [
    "#29 write a code that takes tuple and an element as input. the function should return the count of occurrence of the given\n",
    "# element in the tuple.\n",
    "def check_occur():\n",
    "    tupl1=(1,2,5,6,6,3,5,8,9,6,2,5,6,4,7,10)\n",
    "    new_element=int(input(\"enter the element: \"))\n",
    "    count=0\n",
    "    for i in tupl1:\n",
    "        if i== new_element:\n",
    "            count=count+1\n",
    "            a=(count)\n",
    "    return(\"this is the element with count:\",a)\n",
    "check_occur()"
   ]
  },
  {
   "cell_type": "code",
   "execution_count": null,
   "id": "6baed6cd-8b4e-4fcc-8281-5e922297f771",
   "metadata": {},
   "outputs": [],
   "source": [
    "#30 develop a code that prompts the user to input two sets of string .then print the symmetric difference of these two sets.\n",
    "set1_str=input(\"eneter the string with spaces: \")\n",
    "set1=set()\n",
    "for i in set1_str.split():\n",
    "    set1.add(i)\n",
    "set2_str=input(\"eneter the string with spaces: \")\n",
    "set2=set()\n",
    "for x in set2_str.split():\n",
    "    set2.add(x)  \n",
    "print(\"syymetric difference is    : \", set1^set2)    \n"
   ]
  },
  {
   "cell_type": "code",
   "execution_count": null,
   "id": "f1ad2983-1f3d-49d0-8459-9e7c5d31ea84",
   "metadata": {},
   "outputs": [],
   "source": []
  },
  {
   "cell_type": "code",
   "execution_count": 20,
   "id": "d8b68613-db91-4786-938a-1a928e7fe19e",
   "metadata": {},
   "outputs": [
    {
     "name": "stdout",
     "output_type": "stream",
     "text": [
      "{anas : 3}\n",
      "{kunal : 2}\n",
      "{mayank : 4}\n"
     ]
    }
   ],
   "source": [
    "# 31 write a code that a list of word as input and return a dictionary where the keys are unique words and the values are\n",
    "# the frequencies of those words in the input list\n",
    "def count_frequency(my_list):\n",
    "    freq={}\n",
    "    for item in my_list:\n",
    "        if (item in freq):\n",
    "            freq[item]+=1\n",
    "        else:\n",
    "            freq[item]=1\n",
    "    for key,value in freq.items():\n",
    "        print(\"{% s : % s}\" % (key,value))\n",
    "count_frequency(['anas','kunal','mayank','anas','mayank','mayank','anas','mayank','kunal'])        \n",
    "    "
   ]
  },
  {
   "cell_type": "code",
   "execution_count": 1,
   "id": "c3254dd1-6e98-4ce7-becf-ea4337a58336",
   "metadata": {},
   "outputs": [
    {
     "name": "stdin",
     "output_type": "stream",
     "text": [
      "enter the length of dict: 2\n",
      "enter keys:   a\n",
      "enter values: 2\n",
      "enter keys:   f\n",
      "enter values: 4\n"
     ]
    },
    {
     "name": "stdout",
     "output_type": "stream",
     "text": [
      "{'a': 2, 'f': 4}\n"
     ]
    },
    {
     "name": "stdin",
     "output_type": "stream",
     "text": [
      "enter the length of dict2: 2\n",
      "enter keys for dict2:    a\n",
      "enter valuesfor dict2: 8\n",
      "enter keys for dict2:    r\n",
      "enter valuesfor dict2: 6\n"
     ]
    },
    {
     "name": "stdout",
     "output_type": "stream",
     "text": [
      "{'a': 8, 'r': 6}\n",
      "{'a': 10, 'r': 6}\n"
     ]
    }
   ],
   "source": [
    "# 32 write a code that takes two dictionaries as input and merges them into a single dictionary. if there are commo keys \n",
    "# the value should be added together.\n",
    "user_dict1={}\n",
    "entries=int(input(\"enter the length of dict:\"))\n",
    "for i in range(entries):\n",
    "    dict1_keys=input(\"enter keys:  \")\n",
    "    dict1_values=int(input(\"enter values:\"))\n",
    "    user_dict1[dict1_keys]=dict1_values\n",
    "print(user_dict1)    \n",
    "user_dict2={}\n",
    "entries=int(input(\"enter the length of dict2:\"))\n",
    "for i in range(entries):\n",
    "    dict2_keys=input(\"enter keys for dict2: \")\n",
    "    dict2_values=int(input(\"enter valuesfor dict2:\"))\n",
    "    user_dict2[dict2_keys]=dict2_values\n",
    "print(user_dict2)\n",
    "for key in user_dict2:\n",
    "    if key in user_dict1:\n",
    "        user_dict2[key]=user_dict1[key]+user_dict2[key]\n",
    "    else:\n",
    "        pass\n",
    "print(\"after adding the dict value: \"user_dict2)\n",
    "    "
   ]
  },
  {
   "cell_type": "code",
   "execution_count": 2,
   "id": "82d59549-125e-4bc4-a597-d472392768df",
   "metadata": {},
   "outputs": [
    {
     "name": "stdin",
     "output_type": "stream",
     "text": [
      "enter the length of dict: 2\n",
      "enter keys:   a\n",
      "enter values: 4\n",
      "enter keys:   s\n",
      "enter values: 5\n"
     ]
    },
    {
     "name": "stdout",
     "output_type": "stream",
     "text": [
      "original dictionary {'a': '4', 's': '5'}\n"
     ]
    },
    {
     "name": "stdin",
     "output_type": "stream",
     "text": [
      "for ascending order press yes otherwise no: 2\n"
     ]
    },
    {
     "name": "stdout",
     "output_type": "stream",
     "text": [
      "dict values in descending order: ['5', '4']\n"
     ]
    }
   ],
   "source": [
    "# 34  write a code that takes a dictionary a input and returns a sorted version of it based on the values. you can choose \n",
    "# whether to sort ascending or descending order.\n",
    "\n",
    "user_dict={}\n",
    "entries=int(input(\"enter the length of dict:\"))\n",
    "for i in range(entries):\n",
    "    dict_keys=input(\"enter keys:  \")\n",
    "    dict_values=input(\"enter values:\")\n",
    "    user_dict[dict_keys]=dict_values\n",
    "print(\"original dictionary\",user_dict)\n",
    "c=input(\"for ascending order press yes otherwise no:\")\n",
    "if c==\"yes\":\n",
    "    a=sorted(user_dict.values())    \n",
    "    print(\"dict values in ascending :\",a)\n",
    "else:            \n",
    "    b=sorted(user_dict.values())[::-1]\n",
    "    print(\"dict values in descending order:\",b)\n"
   ]
  },
  {
   "cell_type": "code",
   "execution_count": null,
   "id": "1eb5a770-e027-4ab4-993d-2038ecb3ddd4",
   "metadata": {},
   "outputs": [],
   "source": []
  }
 ],
 "metadata": {
  "kernelspec": {
   "display_name": "Python 3 (ipykernel)",
   "language": "python",
   "name": "python3"
  },
  "language_info": {
   "codemirror_mode": {
    "name": "ipython",
    "version": 3
   },
   "file_extension": ".py",
   "mimetype": "text/x-python",
   "name": "python",
   "nbconvert_exporter": "python",
   "pygments_lexer": "ipython3",
   "version": "3.10.8"
  }
 },
 "nbformat": 4,
 "nbformat_minor": 5
}
